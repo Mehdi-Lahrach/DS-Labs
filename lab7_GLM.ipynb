{
 "cells": [
  {
   "cell_type": "markdown",
   "id": "f776a782-b611-4b66-a150-5a81ad4314fd",
   "metadata": {},
   "source": [
    "### Generalized Linear Models"
   ]
  },
  {
   "cell_type": "markdown",
   "id": "8103f0ed-8d52-4486-8b50-4d58fbaa49af",
   "metadata": {},
   "source": [
    "Consider a scenario where the outcome is binary (e.g., success/failure, yes/no). \n",
    "Linear regression may predict values outside the range [0,1], which doesn't make sense for probabilities."
   ]
  },
  {
   "cell_type": "markdown",
   "id": "32133ee5-1ebc-4002-bf25-000ada19cda0",
   "metadata": {},
   "source": [
    "## Logistic Regression"
   ]
  },
  {
   "cell_type": "markdown",
   "id": "6966288c-075c-4df0-aee4-e912fab806dc",
   "metadata": {},
   "source": [
    "# Assignement:"
   ]
  },
  {
   "cell_type": "markdown",
   "id": "57bf47bb-d1cb-4f4b-8491-f33df7d79ec7",
   "metadata": {},
   "source": [
    "A wireless telecommunications company wants to estimate the probability that a customer will churn\n",
    "(switch to a diﬀerent company) in the next six months. With a reasonably accurate prediction of a person’s\n",
    "likelihood of churning, the sales and marketing groups can attempt to retain the customer by oﬀering\n",
    "various incentives. Data on 8,000 current and prior customers was obtained. The variables collected for\n",
    "each customer follow:\n",
    "\n",
    "- Age (years)\n",
    "- Married (true/false)\n",
    "- Duration as a customer (years)\n",
    "- Churned_contacts (count)—Number of the customer’s contacts that have churned (count)\n",
    "- Churned (true/false)—Whether the customer churned"
   ]
  },
  {
   "cell_type": "markdown",
   "id": "ccc7cc1e-eaaf-4eda-82fb-c6a136a2936d",
   "metadata": {},
   "source": [
    "- visualize and summaries statistics in your EDA process to examine the distributions, relationships, and potential outliers within the dataset.\n",
    "- conduct an exploratory data analysis (EDA) of the provided dataset to gain insights into the relationships between the variables and the likelihood of churn.\n",
    "- Based on the nature of the dependent variable (churned or not churned) and the characteristics of the independent variables, how would you apply a Generalized Linear Model (GLM) to estimate the probability of churn?\n",
    "- When selecting a distribution for the GLM, what factors from the dataset would you consider to determine the appropriate distribution to fit? Could you demonstrate how to assess and choose the distribution using code?\n",
    "- How would you evaluate whether the assumptions of the selected distribution hold true for the dataset?  provide code demonstrating the evaluation process."
   ]
  },
  {
   "cell_type": "code",
   "execution_count": 2,
   "id": "4957b568-0018-46f1-b70e-c7423491b322",
   "metadata": {},
   "outputs": [
    {
     "data": {
      "text/html": [
       "<div>\n",
       "<style scoped>\n",
       "    .dataframe tbody tr th:only-of-type {\n",
       "        vertical-align: middle;\n",
       "    }\n",
       "\n",
       "    .dataframe tbody tr th {\n",
       "        vertical-align: top;\n",
       "    }\n",
       "\n",
       "    .dataframe thead th {\n",
       "        text-align: right;\n",
       "    }\n",
       "</style>\n",
       "<table border=\"1\" class=\"dataframe\">\n",
       "  <thead>\n",
       "    <tr style=\"text-align: right;\">\n",
       "      <th></th>\n",
       "      <th>ID</th>\n",
       "      <th>Churned</th>\n",
       "      <th>Age</th>\n",
       "      <th>Married</th>\n",
       "      <th>Cust_years</th>\n",
       "      <th>Churned_contacts</th>\n",
       "    </tr>\n",
       "  </thead>\n",
       "  <tbody>\n",
       "    <tr>\n",
       "      <th>0</th>\n",
       "      <td>1</td>\n",
       "      <td>0</td>\n",
       "      <td>61</td>\n",
       "      <td>1</td>\n",
       "      <td>3</td>\n",
       "      <td>1</td>\n",
       "    </tr>\n",
       "    <tr>\n",
       "      <th>1</th>\n",
       "      <td>2</td>\n",
       "      <td>0</td>\n",
       "      <td>50</td>\n",
       "      <td>1</td>\n",
       "      <td>3</td>\n",
       "      <td>2</td>\n",
       "    </tr>\n",
       "    <tr>\n",
       "      <th>2</th>\n",
       "      <td>3</td>\n",
       "      <td>0</td>\n",
       "      <td>47</td>\n",
       "      <td>1</td>\n",
       "      <td>2</td>\n",
       "      <td>0</td>\n",
       "    </tr>\n",
       "    <tr>\n",
       "      <th>3</th>\n",
       "      <td>4</td>\n",
       "      <td>0</td>\n",
       "      <td>50</td>\n",
       "      <td>1</td>\n",
       "      <td>3</td>\n",
       "      <td>3</td>\n",
       "    </tr>\n",
       "    <tr>\n",
       "      <th>4</th>\n",
       "      <td>5</td>\n",
       "      <td>0</td>\n",
       "      <td>29</td>\n",
       "      <td>1</td>\n",
       "      <td>1</td>\n",
       "      <td>3</td>\n",
       "    </tr>\n",
       "    <tr>\n",
       "      <th>...</th>\n",
       "      <td>...</td>\n",
       "      <td>...</td>\n",
       "      <td>...</td>\n",
       "      <td>...</td>\n",
       "      <td>...</td>\n",
       "      <td>...</td>\n",
       "    </tr>\n",
       "    <tr>\n",
       "      <th>7995</th>\n",
       "      <td>7996</td>\n",
       "      <td>1</td>\n",
       "      <td>40</td>\n",
       "      <td>1</td>\n",
       "      <td>3</td>\n",
       "      <td>5</td>\n",
       "    </tr>\n",
       "    <tr>\n",
       "      <th>7996</th>\n",
       "      <td>7997</td>\n",
       "      <td>0</td>\n",
       "      <td>25</td>\n",
       "      <td>1</td>\n",
       "      <td>3</td>\n",
       "      <td>5</td>\n",
       "    </tr>\n",
       "    <tr>\n",
       "      <th>7997</th>\n",
       "      <td>7998</td>\n",
       "      <td>0</td>\n",
       "      <td>60</td>\n",
       "      <td>1</td>\n",
       "      <td>3</td>\n",
       "      <td>6</td>\n",
       "    </tr>\n",
       "    <tr>\n",
       "      <th>7998</th>\n",
       "      <td>7999</td>\n",
       "      <td>1</td>\n",
       "      <td>38</td>\n",
       "      <td>1</td>\n",
       "      <td>7</td>\n",
       "      <td>6</td>\n",
       "    </tr>\n",
       "    <tr>\n",
       "      <th>7999</th>\n",
       "      <td>8000</td>\n",
       "      <td>0</td>\n",
       "      <td>36</td>\n",
       "      <td>1</td>\n",
       "      <td>3</td>\n",
       "      <td>5</td>\n",
       "    </tr>\n",
       "  </tbody>\n",
       "</table>\n",
       "<p>8000 rows × 6 columns</p>\n",
       "</div>"
      ],
      "text/plain": [
       "        ID  Churned  Age  Married  Cust_years  Churned_contacts\n",
       "0        1        0   61        1           3                 1\n",
       "1        2        0   50        1           3                 2\n",
       "2        3        0   47        1           2                 0\n",
       "3        4        0   50        1           3                 3\n",
       "4        5        0   29        1           1                 3\n",
       "...    ...      ...  ...      ...         ...               ...\n",
       "7995  7996        1   40        1           3                 5\n",
       "7996  7997        0   25        1           3                 5\n",
       "7997  7998        0   60        1           3                 6\n",
       "7998  7999        1   38        1           7                 6\n",
       "7999  8000        0   36        1           3                 5\n",
       "\n",
       "[8000 rows x 6 columns]"
      ]
     },
     "execution_count": 2,
     "metadata": {},
     "output_type": "execute_result"
    }
   ],
   "source": [
    "import numpy as np\n",
    "import pandas as pd\n",
    "import matplotlib.pyplot as plt\n",
    "import seaborn as sns\n",
    "from scipy import stats\n",
    "data = pd.read_csv('https://raw.githubusercontent.com/evinhas/EMCDSA_code_data/master/Chapter%206/churn.csv')\n",
    "data"
   ]
  },
  {
   "cell_type": "markdown",
   "id": "eb860bc8-43a3-4ab2-a73c-87ecb4d84580",
   "metadata": {},
   "source": [
    "### Preprocessing:"
   ]
  },
  {
   "cell_type": "code",
   "execution_count": 3,
   "id": "85f2c9f4-f8dd-4352-a822-1229314cd2c2",
   "metadata": {},
   "outputs": [
    {
     "name": "stdout",
     "output_type": "stream",
     "text": [
      "<class 'pandas.core.frame.DataFrame'>\n",
      "RangeIndex: 8000 entries, 0 to 7999\n",
      "Data columns (total 6 columns):\n",
      " #   Column            Non-Null Count  Dtype\n",
      "---  ------            --------------  -----\n",
      " 0   ID                8000 non-null   int64\n",
      " 1   Churned           8000 non-null   int64\n",
      " 2   Age               8000 non-null   int64\n",
      " 3   Married           8000 non-null   int64\n",
      " 4   Cust_years        8000 non-null   int64\n",
      " 5   Churned_contacts  8000 non-null   int64\n",
      "dtypes: int64(6)\n",
      "memory usage: 375.1 KB\n",
      "None\n"
     ]
    }
   ],
   "source": [
    "print(data.info())"
   ]
  },
  {
   "cell_type": "code",
   "execution_count": 4,
   "id": "faabbb51-d6b9-4f54-9c8c-274037b992cc",
   "metadata": {},
   "outputs": [
    {
     "data": {
      "text/plain": [
       "ID                  0\n",
       "Churned             0\n",
       "Age                 0\n",
       "Married             0\n",
       "Cust_years          0\n",
       "Churned_contacts    0\n",
       "dtype: int64"
      ]
     },
     "execution_count": 4,
     "metadata": {},
     "output_type": "execute_result"
    }
   ],
   "source": [
    "data.isnull().sum()\n"
   ]
  },
  {
   "cell_type": "code",
   "execution_count": null,
   "id": "7ff01e6c-cf51-413e-8b7f-6d57b26e71d5",
   "metadata": {},
   "outputs": [],
   "source": []
  },
  {
   "cell_type": "code",
   "execution_count": 5,
   "id": "3347dba8-24c9-42c6-ad91-04009b384885",
   "metadata": {},
   "outputs": [],
   "source": [
    "# Convert 'Married' to a categorical type if it's not already\n",
    "data['Married'] = data['Married'].astype('category')\n"
   ]
  },
  {
   "cell_type": "code",
   "execution_count": 6,
   "id": "25382b9f-89c7-401f-8018-955157b880b5",
   "metadata": {},
   "outputs": [
    {
     "data": {
      "text/html": [
       "<div>\n",
       "<style scoped>\n",
       "    .dataframe tbody tr th:only-of-type {\n",
       "        vertical-align: middle;\n",
       "    }\n",
       "\n",
       "    .dataframe tbody tr th {\n",
       "        vertical-align: top;\n",
       "    }\n",
       "\n",
       "    .dataframe thead th {\n",
       "        text-align: right;\n",
       "    }\n",
       "</style>\n",
       "<table border=\"1\" class=\"dataframe\">\n",
       "  <thead>\n",
       "    <tr style=\"text-align: right;\">\n",
       "      <th></th>\n",
       "      <th>ID</th>\n",
       "      <th>Churned</th>\n",
       "      <th>Age</th>\n",
       "      <th>Married</th>\n",
       "      <th>Cust_years</th>\n",
       "      <th>Churned_contacts</th>\n",
       "    </tr>\n",
       "  </thead>\n",
       "  <tbody>\n",
       "    <tr>\n",
       "      <th>0</th>\n",
       "      <td>1</td>\n",
       "      <td>0</td>\n",
       "      <td>61</td>\n",
       "      <td>1</td>\n",
       "      <td>3</td>\n",
       "      <td>1</td>\n",
       "    </tr>\n",
       "    <tr>\n",
       "      <th>1</th>\n",
       "      <td>2</td>\n",
       "      <td>0</td>\n",
       "      <td>50</td>\n",
       "      <td>1</td>\n",
       "      <td>3</td>\n",
       "      <td>2</td>\n",
       "    </tr>\n",
       "    <tr>\n",
       "      <th>2</th>\n",
       "      <td>3</td>\n",
       "      <td>0</td>\n",
       "      <td>47</td>\n",
       "      <td>1</td>\n",
       "      <td>2</td>\n",
       "      <td>0</td>\n",
       "    </tr>\n",
       "    <tr>\n",
       "      <th>3</th>\n",
       "      <td>4</td>\n",
       "      <td>0</td>\n",
       "      <td>50</td>\n",
       "      <td>1</td>\n",
       "      <td>3</td>\n",
       "      <td>3</td>\n",
       "    </tr>\n",
       "    <tr>\n",
       "      <th>4</th>\n",
       "      <td>5</td>\n",
       "      <td>0</td>\n",
       "      <td>29</td>\n",
       "      <td>1</td>\n",
       "      <td>1</td>\n",
       "      <td>3</td>\n",
       "    </tr>\n",
       "  </tbody>\n",
       "</table>\n",
       "</div>"
      ],
      "text/plain": [
       "   ID  Churned  Age Married  Cust_years  Churned_contacts\n",
       "0   1        0   61       1           3                 1\n",
       "1   2        0   50       1           3                 2\n",
       "2   3        0   47       1           2                 0\n",
       "3   4        0   50       1           3                 3\n",
       "4   5        0   29       1           1                 3"
      ]
     },
     "execution_count": 6,
     "metadata": {},
     "output_type": "execute_result"
    }
   ],
   "source": [
    "data.head()"
   ]
  },
  {
   "cell_type": "code",
   "execution_count": 7,
   "id": "adbfad8a-5f99-4655-a042-1cb0d0aa5e7b",
   "metadata": {},
   "outputs": [],
   "source": [
    "### complete the code"
   ]
  },
  {
   "cell_type": "code",
   "execution_count": 8,
   "id": "08cb1288-1859-4ec5-af46-7218e7ca0a75",
   "metadata": {},
   "outputs": [
    {
     "name": "stdout",
     "output_type": "stream",
     "text": [
      "<class 'pandas.core.frame.DataFrame'>\n",
      "RangeIndex: 8000 entries, 0 to 7999\n",
      "Data columns (total 6 columns):\n",
      " #   Column            Non-Null Count  Dtype   \n",
      "---  ------            --------------  -----   \n",
      " 0   ID                8000 non-null   int64   \n",
      " 1   Churned           8000 non-null   int64   \n",
      " 2   Age               8000 non-null   int64   \n",
      " 3   Married           8000 non-null   category\n",
      " 4   Cust_years        8000 non-null   int64   \n",
      " 5   Churned_contacts  8000 non-null   int64   \n",
      "dtypes: category(1), int64(5)\n",
      "memory usage: 320.6 KB\n"
     ]
    }
   ],
   "source": [
    "data.info()"
   ]
  },
  {
   "cell_type": "code",
   "execution_count": 9,
   "id": "31bd4795-f634-44ce-889c-cb280ce9e549",
   "metadata": {},
   "outputs": [
    {
     "data": {
      "text/plain": [
       "count    8000.000000\n",
       "mean       41.405125\n",
       "std        13.621745\n",
       "min        18.000000\n",
       "25%        30.000000\n",
       "50%        41.000000\n",
       "75%        53.000000\n",
       "max        65.000000\n",
       "Name: Age, dtype: float64"
      ]
     },
     "execution_count": 9,
     "metadata": {},
     "output_type": "execute_result"
    }
   ],
   "source": [
    "#age of costumers\n",
    "data['Age'].describe()"
   ]
  },
  {
   "cell_type": "code",
   "execution_count": 10,
   "id": "1f31769f-55e8-440b-bc0f-2248e8e82478",
   "metadata": {},
   "outputs": [
    {
     "data": {
      "text/plain": [
       "count    8000.000000\n",
       "mean        3.163625\n",
       "std         1.114117\n",
       "min         1.000000\n",
       "25%         2.000000\n",
       "50%         3.000000\n",
       "75%         4.000000\n",
       "max        10.000000\n",
       "Name: Cust_years, dtype: float64"
      ]
     },
     "execution_count": 10,
     "metadata": {},
     "output_type": "execute_result"
    }
   ],
   "source": [
    "data['Cust_years'].describe()"
   ]
  },
  {
   "cell_type": "code",
   "execution_count": 32,
   "id": "6ac0bc76-2b94-43f6-ab6c-cf95315bb010",
   "metadata": {},
   "outputs": [
    {
     "data": {
      "text/plain": [
       "Married\n",
       "1    50.0375\n",
       "0    49.9625\n",
       "Name: proportion, dtype: float64"
      ]
     },
     "execution_count": 32,
     "metadata": {},
     "output_type": "execute_result"
    }
   ],
   "source": [
    "#how \n",
    "data['Married'].value_counts(normalize=True) * 100"
   ]
  },
  {
   "cell_type": "code",
   "execution_count": 12,
   "id": "57d5e736-be5e-448b-a683-59125df6fc23",
   "metadata": {},
   "outputs": [
    {
     "data": {
      "text/plain": [
       "Churned\n",
       "0    6257\n",
       "1    1743\n",
       "Name: count, dtype: int64"
      ]
     },
     "execution_count": 12,
     "metadata": {},
     "output_type": "execute_result"
    }
   ],
   "source": [
    "data['Churned'].value_counts()"
   ]
  },
  {
   "cell_type": "code",
   "execution_count": 13,
   "id": "bc20239a-4072-4bef-bb26-5d9f019e0aca",
   "metadata": {},
   "outputs": [
    {
     "data": {
      "text/html": [
       "<div>\n",
       "<style scoped>\n",
       "    .dataframe tbody tr th:only-of-type {\n",
       "        vertical-align: middle;\n",
       "    }\n",
       "\n",
       "    .dataframe tbody tr th {\n",
       "        vertical-align: top;\n",
       "    }\n",
       "\n",
       "    .dataframe thead th {\n",
       "        text-align: right;\n",
       "    }\n",
       "</style>\n",
       "<table border=\"1\" class=\"dataframe\">\n",
       "  <thead>\n",
       "    <tr style=\"text-align: right;\">\n",
       "      <th></th>\n",
       "      <th>ID</th>\n",
       "      <th>Churned</th>\n",
       "      <th>Age</th>\n",
       "      <th>Cust_years</th>\n",
       "      <th>Churned_contacts</th>\n",
       "    </tr>\n",
       "  </thead>\n",
       "  <tbody>\n",
       "    <tr>\n",
       "      <th>count</th>\n",
       "      <td>1743.000000</td>\n",
       "      <td>1743.0</td>\n",
       "      <td>1743.000000</td>\n",
       "      <td>1743.000000</td>\n",
       "      <td>1743.000000</td>\n",
       "    </tr>\n",
       "    <tr>\n",
       "      <th>mean</th>\n",
       "      <td>4159.695927</td>\n",
       "      <td>1.0</td>\n",
       "      <td>27.525531</td>\n",
       "      <td>3.163511</td>\n",
       "      <td>2.017212</td>\n",
       "    </tr>\n",
       "    <tr>\n",
       "      <th>std</th>\n",
       "      <td>2356.626873</td>\n",
       "      <td>0.0</td>\n",
       "      <td>7.798798</td>\n",
       "      <td>1.102236</td>\n",
       "      <td>1.404332</td>\n",
       "    </tr>\n",
       "    <tr>\n",
       "      <th>min</th>\n",
       "      <td>13.000000</td>\n",
       "      <td>1.0</td>\n",
       "      <td>18.000000</td>\n",
       "      <td>1.000000</td>\n",
       "      <td>0.000000</td>\n",
       "    </tr>\n",
       "    <tr>\n",
       "      <th>25%</th>\n",
       "      <td>2184.000000</td>\n",
       "      <td>1.0</td>\n",
       "      <td>21.000000</td>\n",
       "      <td>2.000000</td>\n",
       "      <td>1.000000</td>\n",
       "    </tr>\n",
       "    <tr>\n",
       "      <th>50%</th>\n",
       "      <td>4122.000000</td>\n",
       "      <td>1.0</td>\n",
       "      <td>26.000000</td>\n",
       "      <td>3.000000</td>\n",
       "      <td>2.000000</td>\n",
       "    </tr>\n",
       "    <tr>\n",
       "      <th>75%</th>\n",
       "      <td>6211.500000</td>\n",
       "      <td>1.0</td>\n",
       "      <td>31.000000</td>\n",
       "      <td>4.000000</td>\n",
       "      <td>3.000000</td>\n",
       "    </tr>\n",
       "    <tr>\n",
       "      <th>max</th>\n",
       "      <td>7999.000000</td>\n",
       "      <td>1.0</td>\n",
       "      <td>63.000000</td>\n",
       "      <td>9.000000</td>\n",
       "      <td>6.000000</td>\n",
       "    </tr>\n",
       "  </tbody>\n",
       "</table>\n",
       "</div>"
      ],
      "text/plain": [
       "                ID  Churned          Age   Cust_years  Churned_contacts\n",
       "count  1743.000000   1743.0  1743.000000  1743.000000       1743.000000\n",
       "mean   4159.695927      1.0    27.525531     3.163511          2.017212\n",
       "std    2356.626873      0.0     7.798798     1.102236          1.404332\n",
       "min      13.000000      1.0    18.000000     1.000000          0.000000\n",
       "25%    2184.000000      1.0    21.000000     2.000000          1.000000\n",
       "50%    4122.000000      1.0    26.000000     3.000000          2.000000\n",
       "75%    6211.500000      1.0    31.000000     4.000000          3.000000\n",
       "max    7999.000000      1.0    63.000000     9.000000          6.000000"
      ]
     },
     "execution_count": 13,
     "metadata": {},
     "output_type": "execute_result"
    }
   ],
   "source": [
    "#describing the churned costumers features\n",
    "data[data['Churned'] == 1].describe()\n",
    "\n",
    "#we can see that the mean age of cutumers who churned is 27 which are the yong population of the data"
   ]
  },
  {
   "cell_type": "code",
   "execution_count": null,
   "id": "b4a83b84-14fa-4a7a-b938-c1840e07ccec",
   "metadata": {},
   "outputs": [],
   "source": []
  },
  {
   "cell_type": "code",
   "execution_count": 14,
   "id": "c86a6624-1eb4-4631-ad72-1d812412e3bd",
   "metadata": {},
   "outputs": [
    {
     "data": {
      "text/html": [
       "<div>\n",
       "<style scoped>\n",
       "    .dataframe tbody tr th:only-of-type {\n",
       "        vertical-align: middle;\n",
       "    }\n",
       "\n",
       "    .dataframe tbody tr th {\n",
       "        vertical-align: top;\n",
       "    }\n",
       "\n",
       "    .dataframe thead th {\n",
       "        text-align: right;\n",
       "    }\n",
       "</style>\n",
       "<table border=\"1\" class=\"dataframe\">\n",
       "  <thead>\n",
       "    <tr style=\"text-align: right;\">\n",
       "      <th></th>\n",
       "      <th>ID</th>\n",
       "      <th>Churned</th>\n",
       "      <th>Age</th>\n",
       "      <th>Cust_years</th>\n",
       "      <th>Churned_contacts</th>\n",
       "    </tr>\n",
       "  </thead>\n",
       "  <tbody>\n",
       "    <tr>\n",
       "      <th>count</th>\n",
       "      <td>6257.000000</td>\n",
       "      <td>6257.0</td>\n",
       "      <td>6257.000000</td>\n",
       "      <td>6257.000000</td>\n",
       "      <td>6257.000000</td>\n",
       "    </tr>\n",
       "    <tr>\n",
       "      <th>mean</th>\n",
       "      <td>3956.153109</td>\n",
       "      <td>0.0</td>\n",
       "      <td>45.271536</td>\n",
       "      <td>3.163657</td>\n",
       "      <td>1.634010</td>\n",
       "    </tr>\n",
       "    <tr>\n",
       "      <th>std</th>\n",
       "      <td>2294.482808</td>\n",
       "      <td>0.0</td>\n",
       "      <td>12.316204</td>\n",
       "      <td>1.117492</td>\n",
       "      <td>1.217932</td>\n",
       "    </tr>\n",
       "    <tr>\n",
       "      <th>min</th>\n",
       "      <td>1.000000</td>\n",
       "      <td>0.0</td>\n",
       "      <td>18.000000</td>\n",
       "      <td>1.000000</td>\n",
       "      <td>0.000000</td>\n",
       "    </tr>\n",
       "    <tr>\n",
       "      <th>25%</th>\n",
       "      <td>1962.000000</td>\n",
       "      <td>0.0</td>\n",
       "      <td>36.000000</td>\n",
       "      <td>2.000000</td>\n",
       "      <td>1.000000</td>\n",
       "    </tr>\n",
       "    <tr>\n",
       "      <th>50%</th>\n",
       "      <td>3963.000000</td>\n",
       "      <td>0.0</td>\n",
       "      <td>46.000000</td>\n",
       "      <td>3.000000</td>\n",
       "      <td>2.000000</td>\n",
       "    </tr>\n",
       "    <tr>\n",
       "      <th>75%</th>\n",
       "      <td>5936.000000</td>\n",
       "      <td>0.0</td>\n",
       "      <td>56.000000</td>\n",
       "      <td>4.000000</td>\n",
       "      <td>2.000000</td>\n",
       "    </tr>\n",
       "    <tr>\n",
       "      <th>max</th>\n",
       "      <td>8000.000000</td>\n",
       "      <td>0.0</td>\n",
       "      <td>65.000000</td>\n",
       "      <td>10.000000</td>\n",
       "      <td>6.000000</td>\n",
       "    </tr>\n",
       "  </tbody>\n",
       "</table>\n",
       "</div>"
      ],
      "text/plain": [
       "                ID  Churned          Age   Cust_years  Churned_contacts\n",
       "count  6257.000000   6257.0  6257.000000  6257.000000       6257.000000\n",
       "mean   3956.153109      0.0    45.271536     3.163657          1.634010\n",
       "std    2294.482808      0.0    12.316204     1.117492          1.217932\n",
       "min       1.000000      0.0    18.000000     1.000000          0.000000\n",
       "25%    1962.000000      0.0    36.000000     2.000000          1.000000\n",
       "50%    3963.000000      0.0    46.000000     3.000000          2.000000\n",
       "75%    5936.000000      0.0    56.000000     4.000000          2.000000\n",
       "max    8000.000000      0.0    65.000000    10.000000          6.000000"
      ]
     },
     "execution_count": 14,
     "metadata": {},
     "output_type": "execute_result"
    }
   ],
   "source": [
    "#describing the non churned costumers features\n",
    "data[data['Churned'] == 0].describe()"
   ]
  },
  {
   "cell_type": "code",
   "execution_count": 61,
   "id": "03226280-3a49-437e-af1b-ebcf33558120",
   "metadata": {},
   "outputs": [
    {
     "name": "stdout",
     "output_type": "stream",
     "text": [
      "Age and churned: -0.537819791942407\n"
     ]
    }
   ],
   "source": [
    "# Compute point-biserial correlation coefficient\n",
    "pb_corr_age, _ = stats.pointbiserialr(data['Churned'], data['Age'])\n",
    "print(\"Age and churned:\", pb_corr_age)\n",
    "\n",
    "#with a correlation coefficient of -0.53, we can assume that the relationship \n",
    "#between churned or not and age of costumer is negativly corelated\n",
    "#iow, as the age of our costumers increase the likelyhood of them churning decrease"
   ]
  },
  {
   "cell_type": "code",
   "execution_count": 43,
   "id": "d8d32f15-c400-40cb-adc2-de614e45254c",
   "metadata": {},
   "outputs": [
    {
     "name": "stdout",
     "output_type": "stream",
     "text": [
      "T-statistic: -57.051765094148394\n",
      "P-value: 0.0\n"
     ]
    }
   ],
   "source": [
    "#T-Test\n",
    "age_churned = data[data['Churned'] == 1]['Age']\n",
    "age_not_churned = data[data['Churned'] == 0]['Age']\n",
    "\n",
    "# Perform independent samples t-test\n",
    "t_statistic, p_value = stats.ttest_ind(age_churned, age_not_churned)\n",
    "\n",
    "print(\"T-statistic:\", t_statistic)\n",
    "print(\"P-value:\", p_value) \n",
    "\n",
    "#very low p-value < 0.05  indicate that there is a significant difrence in mean\n",
    "#between the tow groups that is not duo to chance"
   ]
  },
  {
   "cell_type": "code",
   "execution_count": 27,
   "id": "fa9341a4-e98f-4fab-9399-2a807127b3ac",
   "metadata": {},
   "outputs": [
    {
     "name": "stdout",
     "output_type": "stream",
     "text": [
      "T-statistic: 11.221232831290864\n",
      "P-value: 5.279195778071481e-29\n"
     ]
    }
   ],
   "source": [
    "contact_churned = data[data['Churned'] == 1]['Churned_contacts']\n",
    "contactn_ot_churned = data[data['Churned'] == 0]['Churned_contacts']\n",
    "\n",
    "# Perform independent samples t-test\n",
    "t_statistic, p_value = stats.ttest_ind(contact_churned, contactn_ot_churned)\n",
    "\n",
    "print(\"T-statistic:\", t_statistic)\n",
    "print(\"P-value:\", p_value)\n",
    "\n",
    "#very low p-value < 0.05 indicate that there is a significant difrence in mean\n",
    "#between the tow groups that is not duo to chance"
   ]
  },
  {
   "cell_type": "code",
   "execution_count": 30,
   "id": "35cf20e6-f875-4f40-a5db-388176decdf9",
   "metadata": {},
   "outputs": [
    {
     "name": "stdout",
     "output_type": "stream",
     "text": [
      "T-statistic: -0.0048221659945405166\n",
      "P-value: 0.9961526033795209\n"
     ]
    }
   ],
   "source": [
    "gcust_churned = data[data['Churned'] == 1]['Cust_years']\n",
    "cust_ot_churned = data[data['Churned'] == 0]['Cust_years']\n",
    "\n",
    "# Perform independent samples t-test\n",
    "t_statistic, p_value = stats.ttest_ind(cust_churned, cust_ot_churned)\n",
    "\n",
    "print(\"T-statistic:\", t_statistic)\n",
    "\n",
    "#the very high p-value > 0.05 indicate that there is no significant difrence in mean\n",
    "#between the tow groups "
   ]
  },
  {
   "cell_type": "code",
   "execution_count": null,
   "id": "e28576ae-4616-49ca-abe0-4a518db1712f",
   "metadata": {},
   "outputs": [],
   "source": []
  },
  {
   "cell_type": "code",
   "execution_count": 73,
   "id": "eb32a6af-e503-49f3-ba73-79a54ba7cec1",
   "metadata": {},
   "outputs": [
    {
     "name": "stdout",
     "output_type": "stream",
     "text": [
      "Churned     0    1\n",
      "Married           \n",
      "0        3128  869\n",
      "1        3129  874\n",
      "Chi-square statistic: 0.005318862438413589\n",
      "P-value: 0.9418613979311348\n"
     ]
    }
   ],
   "source": [
    "crosstab = pd.crosstab(data['Married'], data['Churned'])\n",
    "print(crosstab)\n",
    "chi2, p, _, _ = stats.chi2_contingency(crosstab)\n",
    "print(\"Chi-square statistic:\", chi2)\n",
    "print(\"P-value:\", p)\n",
    "\n",
    "#high p-value indicate  the value of one variable\n",
    "#does not give information about the other variable\n",
    "#no relationship between the variables (i.e.,\n",
    "#the variables are independent): the value of one variable\n",
    "#does not give information about the other variable"
   ]
  },
  {
   "cell_type": "code",
   "execution_count": 75,
   "id": "e6b8935e-4631-469c-96d7-bb555cbb849c",
   "metadata": {},
   "outputs": [
    {
     "name": "stdout",
     "output_type": "stream",
     "text": [
      "                 Generalized Linear Model Regression Results                  \n",
      "==============================================================================\n",
      "Dep. Variable:                Churned   No. Observations:                 8000\n",
      "Model:                            GLM   Df Residuals:                     7997\n",
      "Model Family:                Binomial   Df Model:                            2\n",
      "Link Function:                  Logit   Scale:                          1.0000\n",
      "Method:                          IRLS   Log-Likelihood:                -2679.6\n",
      "Date:                Fri, 03 May 2024   Deviance:                       5359.2\n",
      "Time:                        20:39:06   Pearson chi2:                 8.19e+03\n",
      "No. Iterations:                     7   Pseudo R-squ. (CS):             0.3151\n",
      "Covariance Type:            nonrobust                                         \n",
      "====================================================================================\n",
      "                       coef    std err          z      P>|z|      [0.025      0.975]\n",
      "------------------------------------------------------------------------------------\n",
      "Intercept            3.5027      0.128     27.273      0.000       3.251       3.754\n",
      "Age                 -0.1566      0.004    -38.322      0.000      -0.165      -0.149\n",
      "Churned_contacts     0.3819      0.027     13.989      0.000       0.328       0.435\n",
      "====================================================================================\n"
     ]
    }
   ],
   "source": [
    "#GLM\n",
    "import statsmodels.formula.api as smf\n",
    "\n",
    "formula = 'Churned ~ Age + Churned_contacts'\n",
    "model = smf.glm(formula=formula, data=data, family=sm.families.Binomial())\n",
    "res = model.fit()\n",
    "print(res.summary())"
   ]
  },
  {
   "cell_type": "markdown",
   "id": "3e248b59-3d5e-4d74-a2f8-25a1f48d8367",
   "metadata": {},
   "source": [
    "coefficient for Age (-0.1566) indicates the effect of age on the log-odds\n",
    "of churn holding other variables constant, \n",
    "for each one unite increase in age, the log odds of churn decrease \n",
    "by 0.1566. this coefficint assume that older costumers are less likely\n",
    "to churn compared to yonger costumers \n",
    ",example if the log odds of churn were 3.5 for a 30 years old costuemr \n",
    "they would decrease to 3.34 for a 31 year old costumer assuming other variables remain \n",
    "constant\n",
    "\n",
    "Coefficient for Churned_contacts (0.3819):\n",
    "This coefficient represents the effect of Churned_contacts on the log-odds of churn, holding other variables constant.\n",
    "For each one-unit increase in Churned_contacts (e.g., one additional contact who has churned), the log-odds of churn increase by 0.3819."
   ]
  },
  {
   "cell_type": "code",
   "execution_count": null,
   "id": "5e3d8de5-032d-4612-83fe-cbc0dd0d25e6",
   "metadata": {},
   "outputs": [],
   "source": []
  },
  {
   "cell_type": "code",
   "execution_count": null,
   "id": "361a614e-6393-4bf7-8e64-a7ea2d2eb0f7",
   "metadata": {},
   "outputs": [],
   "source": [
    "    "
   ]
  },
  {
   "cell_type": "code",
   "execution_count": 99,
   "id": "a36ca16e-86e8-4e08-a14f-fecdebb1723f",
   "metadata": {},
   "outputs": [],
   "source": [
    "y_pred = (yhat >= 0.5).astype(int)\n",
    "data['predicted'] = y_pred"
   ]
  },
  {
   "cell_type": "code",
   "execution_count": 100,
   "id": "83b76986-9c77-4279-a929-15c444de33d5",
   "metadata": {},
   "outputs": [
    {
     "data": {
      "text/html": [
       "<div>\n",
       "<style scoped>\n",
       "    .dataframe tbody tr th:only-of-type {\n",
       "        vertical-align: middle;\n",
       "    }\n",
       "\n",
       "    .dataframe tbody tr th {\n",
       "        vertical-align: top;\n",
       "    }\n",
       "\n",
       "    .dataframe thead th {\n",
       "        text-align: right;\n",
       "    }\n",
       "</style>\n",
       "<table border=\"1\" class=\"dataframe\">\n",
       "  <thead>\n",
       "    <tr style=\"text-align: right;\">\n",
       "      <th></th>\n",
       "      <th>ID</th>\n",
       "      <th>Churned</th>\n",
       "      <th>Age</th>\n",
       "      <th>Married</th>\n",
       "      <th>Cust_years</th>\n",
       "      <th>Churned_contacts</th>\n",
       "      <th>predicted</th>\n",
       "    </tr>\n",
       "  </thead>\n",
       "  <tbody>\n",
       "    <tr>\n",
       "      <th>0</th>\n",
       "      <td>1</td>\n",
       "      <td>0</td>\n",
       "      <td>61</td>\n",
       "      <td>1</td>\n",
       "      <td>3</td>\n",
       "      <td>1</td>\n",
       "      <td>0</td>\n",
       "    </tr>\n",
       "    <tr>\n",
       "      <th>1</th>\n",
       "      <td>2</td>\n",
       "      <td>0</td>\n",
       "      <td>50</td>\n",
       "      <td>1</td>\n",
       "      <td>3</td>\n",
       "      <td>2</td>\n",
       "      <td>0</td>\n",
       "    </tr>\n",
       "    <tr>\n",
       "      <th>2</th>\n",
       "      <td>3</td>\n",
       "      <td>0</td>\n",
       "      <td>47</td>\n",
       "      <td>1</td>\n",
       "      <td>2</td>\n",
       "      <td>0</td>\n",
       "      <td>0</td>\n",
       "    </tr>\n",
       "    <tr>\n",
       "      <th>3</th>\n",
       "      <td>4</td>\n",
       "      <td>0</td>\n",
       "      <td>50</td>\n",
       "      <td>1</td>\n",
       "      <td>3</td>\n",
       "      <td>3</td>\n",
       "      <td>0</td>\n",
       "    </tr>\n",
       "    <tr>\n",
       "      <th>4</th>\n",
       "      <td>5</td>\n",
       "      <td>0</td>\n",
       "      <td>29</td>\n",
       "      <td>1</td>\n",
       "      <td>1</td>\n",
       "      <td>3</td>\n",
       "      <td>1</td>\n",
       "    </tr>\n",
       "    <tr>\n",
       "      <th>...</th>\n",
       "      <td>...</td>\n",
       "      <td>...</td>\n",
       "      <td>...</td>\n",
       "      <td>...</td>\n",
       "      <td>...</td>\n",
       "      <td>...</td>\n",
       "      <td>...</td>\n",
       "    </tr>\n",
       "    <tr>\n",
       "      <th>7995</th>\n",
       "      <td>7996</td>\n",
       "      <td>1</td>\n",
       "      <td>40</td>\n",
       "      <td>1</td>\n",
       "      <td>3</td>\n",
       "      <td>5</td>\n",
       "      <td>0</td>\n",
       "    </tr>\n",
       "    <tr>\n",
       "      <th>7996</th>\n",
       "      <td>7997</td>\n",
       "      <td>0</td>\n",
       "      <td>25</td>\n",
       "      <td>1</td>\n",
       "      <td>3</td>\n",
       "      <td>5</td>\n",
       "      <td>1</td>\n",
       "    </tr>\n",
       "    <tr>\n",
       "      <th>7997</th>\n",
       "      <td>7998</td>\n",
       "      <td>0</td>\n",
       "      <td>60</td>\n",
       "      <td>1</td>\n",
       "      <td>3</td>\n",
       "      <td>6</td>\n",
       "      <td>0</td>\n",
       "    </tr>\n",
       "    <tr>\n",
       "      <th>7998</th>\n",
       "      <td>7999</td>\n",
       "      <td>1</td>\n",
       "      <td>38</td>\n",
       "      <td>1</td>\n",
       "      <td>7</td>\n",
       "      <td>6</td>\n",
       "      <td>0</td>\n",
       "    </tr>\n",
       "    <tr>\n",
       "      <th>7999</th>\n",
       "      <td>8000</td>\n",
       "      <td>0</td>\n",
       "      <td>36</td>\n",
       "      <td>1</td>\n",
       "      <td>3</td>\n",
       "      <td>5</td>\n",
       "      <td>0</td>\n",
       "    </tr>\n",
       "  </tbody>\n",
       "</table>\n",
       "<p>8000 rows × 7 columns</p>\n",
       "</div>"
      ],
      "text/plain": [
       "        ID  Churned  Age Married  Cust_years  Churned_contacts  predicted\n",
       "0        1        0   61       1           3                 1          0\n",
       "1        2        0   50       1           3                 2          0\n",
       "2        3        0   47       1           2                 0          0\n",
       "3        4        0   50       1           3                 3          0\n",
       "4        5        0   29       1           1                 3          1\n",
       "...    ...      ...  ...     ...         ...               ...        ...\n",
       "7995  7996        1   40       1           3                 5          0\n",
       "7996  7997        0   25       1           3                 5          1\n",
       "7997  7998        0   60       1           3                 6          0\n",
       "7998  7999        1   38       1           7                 6          0\n",
       "7999  8000        0   36       1           3                 5          0\n",
       "\n",
       "[8000 rows x 7 columns]"
      ]
     },
     "execution_count": 100,
     "metadata": {},
     "output_type": "execute_result"
    }
   ],
   "source": [
    "data"
   ]
  },
  {
   "cell_type": "code",
   "execution_count": 104,
   "id": "7e871e72-ce74-4210-b57d-b08d34a2a770",
   "metadata": {},
   "outputs": [
    {
     "name": "stdout",
     "output_type": "stream",
     "text": [
      "Accuracy in %: 84.15\n"
     ]
    }
   ],
   "source": [
    "from sklearn.metrics import accuracy_score\n",
    "\n",
    "accuracy = accuracy_score(data['Churned'], data['predicted'])\n",
    "print(\"Accuracy in %:\", accuracy * 100)"
   ]
  },
  {
   "cell_type": "code",
   "execution_count": 105,
   "id": "90313fa3-08fc-419d-9efd-e3c29330fc3d",
   "metadata": {},
   "outputs": [
    {
     "data": {
      "image/png": "[encoded data removed]",
      "text/plain": [
       "<Figure size 640x480 with 1 Axes>"
      ]
     },
     "execution_count": 105,
     "metadata": {},
     "output_type": "execute_result"
    },
    {
     "data": {
      "image/png": "[encoded data removed]",
      "text/plain": [
       "<Figure size 640x480 with 1 Axes>"
      ]
     },
     "metadata": {},
     "output_type": "display_data"
    }
   ],
   "source": [
    "resid = res.resid_deviance.copy()\n",
    "# QQ Plot of Deviance Residuals:\n",
    "\n",
    "from statsmodels import graphics\n",
    "graphics.gofplots.qqplot(resid, line='r')\n"
   ]
  },
  {
   "cell_type": "code",
   "execution_count": 106,
   "id": "75cb0543-21b1-46b7-9d1d-92b7b993e0c9",
   "metadata": {},
   "outputs": [
    {
     "data": {
      "text/plain": [
       "Text(0.5, 0, 'Fitted values')"
      ]
     },
     "execution_count": 106,
     "metadata": {},
     "output_type": "execute_result"
    },
    {
     "data": {
      "image/png": "[encoded data removed]",
      "text/plain": [
       "<Figure size 640x480 with 1 Axes>"
      ]
     },
     "metadata": {},
     "output_type": "display_data"
    }
   ],
   "source": [
    "#Plot yhat vs. Pearson residuals:\n",
    "\n",
    "fig, ax = plt.subplots()\n",
    "\n",
    "ax.scatter(yhat, res.resid_pearson)\n",
    "ax.hlines(0, 0, 1)\n",
    "ax.set_xlim(0, 1)\n",
    "ax.set_title('Residual Dependence Plot')\n",
    "ax.set_ylabel('Pearson Residuals')\n",
    "ax.set_xlabel('Fitted values')\n",
    "\n"
   ]
  },
  {
   "cell_type": "code",
   "execution_count": 114,
   "id": "7c324bf1-8dd4-4ce6-9a0b-7eb1536cce10",
   "metadata": {},
   "outputs": [
    {
     "name": "stdout",
     "output_type": "stream",
     "text": [
      "Accuracy: 0.845\n",
      "Precision: 0.6354166666666666\n",
      "Recall: 0.5613496932515337\n",
      "F1-score: 0.5960912052117264\n"
     ]
    }
   ],
   "source": [
    "from sklearn.datasets import load_iris\n",
    "from sklearn.linear_model import LogisticRegression\n",
    "from sklearn.model_selection import train_test_split\n",
    "from sklearn.metrics import accuracy_score, precision_score, recall_score, f1_score\n",
    "\n",
    "X = data[['Age', 'Churned_contacts']]\n",
    "y = data['Churned']\n",
    "\n",
    "X_train, X_test, y_train, y_test = train_test_split(X, y, test_size=0.2, random_state=42)\n",
    "\n",
    "# Fit a logistic regression model\n",
    "model = LogisticRegression().fit(X_train, y_train)\n",
    "\n",
    "y_pred = model.predict(X_test)\n",
    "\n",
    "accuracy = accuracy_score(y_test, y_pred)\n",
    "precision = precision_score(y_test, y_pred)\n",
    "recall = recall_score(y_test, y_pred)\n",
    "f1 = f1_score(y_test, y_pred)\n",
    "\n",
    "print(\"Accuracy:\", accuracy)\n",
    "print(\"Precision:\", precision)\n",
    "print(\"Recall:\", recall)\n",
    "print(\"F1-score:\", f1)"
   ]
  },
  {
   "cell_type": "code",
   "execution_count": null,
   "id": "4b02646b-b1c8-4f6b-bdfc-e0189c138363",
   "metadata": {},
   "outputs": [],
   "source": []
  },
  {
   "cell_type": "code",
   "execution_count": null,
   "id": "3127c210-164c-48e6-8f77-38286dcd7d94",
   "metadata": {},
   "outputs": [],
   "source": []
  },
  {
   "cell_type": "code",
   "execution_count": null,
   "id": "bebe92db-d698-4c57-ace2-6d34f973e3b7",
   "metadata": {},
   "outputs": [],
   "source": []
  },
  {
   "cell_type": "code",
   "execution_count": null,
   "id": "39f17116-2763-4297-946a-2e0706070d69",
   "metadata": {},
   "outputs": [],
   "source": []
  }
 ],
 "metadata": {
  "kernelspec": {
   "display_name": "Python 3 (ipykernel)",
   "language": "python",
   "name": "python3"
  },
  "language_info": {
   "codemirror_mode": {
    "name": "ipython",
    "version": 3
   },
   "file_extension": ".py",
   "mimetype": "text/x-python",
   "name": "python",
   "nbconvert_exporter": "python",
   "pygments_lexer": "ipython3",
   "version": "3.12.3"
  }
 },
 "nbformat": 4,
 "nbformat_minor": 5
}
